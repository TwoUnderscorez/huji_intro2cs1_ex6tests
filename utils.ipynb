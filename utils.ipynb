{
 "cells": [
  {
   "cell_type": "code",
   "execution_count": 1,
   "metadata": {},
   "outputs": [
    {
     "name": "stdout",
     "output_type": "stream",
     "text": [
      "b'5qZhmD/9PG/nf?DC^NN^BQS*-$3'\n"
     ]
    }
   ],
   "source": [
    "import base64\n",
    "a = 'b\\'6#:\"QF\\\\\\'h=XD.7<mA8cL\"/nf?DC^NRN@:O4_9jqjMDg<sKFDYh$7qljPG&h\"u=(Pf]Ch7lEBQS*-$:nTGEd;\"gDfg)4E\\\\\\\\;$ID/9PMATDX%Df0,n7ri$UB4Z*9BQS*-$:o)JG@>N6F\\\\\\'hjUBQ%g*?Z0O`=(ubdBOc\\\\\\'kAoqBgDId*UBmO3.A9)rJBQS*-$;>S[@:)]HG%G<)De(J6FDYh$:1\\\\\\\\T_Ci!Zi9Q+f]@W-@1Df%+?FDYh$;K$G]Ch-mSARTXrAU,nAFDYh$;KZG[F`Un\\\\\\\\@:sUpA1hP;D/9PXAThX*F`UngDIIKq/nf?DC^O-[D-p1TA7TLf/nf?DC]\\''\n",
    "print(repr(base64.a85encode(b'''A.html\n",
    "B.html\n",
    "C.html\n",
    "''')))\n",
    "# with open('td.p', 'rb') as f:\n",
    "#     print(repr(base64.a85encode(f.read())))"
   ]
  },
  {
   "cell_type": "code",
   "execution_count": null,
   "metadata": {},
   "outputs": [],
   "source": []
  }
 ],
 "metadata": {
  "interpreter": {
   "hash": "ac59ebe37160ed0dfa835113d9b8498d9f09ceb179beaac4002f036b9467c963"
  },
  "kernelspec": {
   "display_name": "Python 3.9.6 64-bit",
   "language": "python",
   "name": "python3"
  },
  "language_info": {
   "codemirror_mode": {
    "name": "ipython",
    "version": 3
   },
   "file_extension": ".py",
   "mimetype": "text/x-python",
   "name": "python",
   "nbconvert_exporter": "python",
   "pygments_lexer": "ipython3",
   "version": "3.9.7"
  },
  "orig_nbformat": 4
 },
 "nbformat": 4,
 "nbformat_minor": 2
}
