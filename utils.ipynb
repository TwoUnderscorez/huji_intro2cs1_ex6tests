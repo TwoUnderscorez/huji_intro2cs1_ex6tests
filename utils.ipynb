{
 "cells": [
  {
   "cell_type": "code",
   "execution_count": 10,
   "metadata": {},
   "outputs": [
    {
     "name": "stdout",
     "output_type": "stream",
     "text": [
      "b'J-;.9%KHJ/!!!\"IPUMJ*6#:\"QF\\'h=XD.7<mA8cL\"/nf?DCm9@4.#]fMDeF9&EccA0;e\\'KZDerd!Am\\\\VRFCSuoEa`R%?X[h_?WUrf@<,n!GqNcPD/>G0\\'oWZ&Df&iZBk1ajAM.Y<D/>G0*K1S$@<-C6?VkZ_FCfJFBQS*-PY2mQ\\'2iad@;KI]=(Pf]Ch7lEBQS*-PY2.<\\'hDnVD/!p+AR@rJ@;]^hE\\\\;$ID/>G0\"cO\\'mAThX*F`UngDIIKq/nf?DCm7R)N\"T$2@V\\'\\\\\\'?V\"U<EbT&:BQS*-PY2:@(J\\\\ObBl%Ts?VGBUB4>e$FDl\"KBQS*-PY2.<\\'LukTATi*&?WUfIF)5E5/nf?DCm7QsN\"Sg,DIHmGDg#])Df9/=BQS*-PY2+;&O^YJ@rG^K@;KOoGqNcPD/>G0#Bbt;6ul^GDdQ4ICh@U2/nf?DCm9@4.#]fMDeF9&EccA0;e\\'KZDerd!Am\\\\VRFCSuoEa`R%?X[h_?WUrf@<,n!GqNcPD/>G0%#bch@<-C6?VkZ_FCfJFBQS*-PY2UI%odIa?W(TKA8Gg0BQS*-PY2^L\\'gZYFF`UnXF_tT(ARo_\"AM.Y<D/>G0$&fKqAThX*F`UngDIIKq/nf?DCm7R\"N\"T$2@V\\'\\\\\\'?V\"U<EbT&:BQS*-PY24>\\'2iad@;KI]=(Pf]Ch7lEBQS*-PY2@B\\'hDnVD/!p+AR@rJ@;]^hE\\\\;$ID/>G0%u_<\"AThd(Ch6sIDf02sDfg)>D(]LDD/>G0#)j6dBl7L*Ea`<VARTXrAU,nAFDYiY9*^Cg9Qb5]?VGB]AS5q\"A1hP;D/>G0!d0G97qljPG&h\"u=(Pf]Ch7lEBQS*-P^ScEN\"JThEcQG4:iCGtATBD:FDYiY9,*=<88i-b@<-I2?W1HJDf9H!De<?XBlmiu@rc!iFC/HoA7&DPH=:i)Ed99NFDYiY9+$Ug<,ZV\\\\;JBZPCh554FDYiY9+Qsr6#:\"QF\\'h=XD.7<mA8cL\"/nf?DCm7QrN\"T\\'#G%G]:F\\'hj`@;od1BQS*-PY2.<&kmFc@:)]HG%G<)De(J6FDYiY9*gIi;K$G]Ch-mSARTXrAU,nAFDYiY9+?gl6ul^GDdQ4ICh@U2/nf?DCm7QuN\"nlpEc#N/DIm0FEa`iuATBD:FDYiY9+?gm;KZG[F`Un\\\\@:sUpA1hP;D/>G0\",n$kAThd(Ch6sIDf02sDfg)>D(]LDD/>G0\"a,b987?OZH!aBdFED)7/nf?DCm9@4.#\\\\s;AThd(Ch6sIDf02sDfg)>D(]LDD/>G0%u_#uDf&iZBk1ajAM.Y<D/>G0*fL_1AThX*F`UngDIIKq/nf?DCm7R8N\"nWp@Wca!7!3?UCh7-qEb-k:FDYiY9-0$);KZG[F`Un\\\\@:sUpA1hP;D/>G0)iQF@DeF9&EccA0;e\\'KZDerd!Am\\\\VRFCSuoEa`R%?X[h_?WUrf@<,n!GqNcPD/>G0&r[K%Df0!\"A7&DL@<66rGqNcPD/>G0\\'9!YsATDX%Df0,n7ri$UB4Z*9BQS*-PY2sS\\'LukTATi*&?WUfIF)5E5/nf?DCm7R$N\"JHu@:O4_9jqjMDg<sKFDYiY9,ig&9Qb5]?VGB]AS5q\"A1hP;D/>G0%<[UE87cgYBl@m#?Uo-FDJ*O$/nf?DCm9@4.#\\\\a/@<-C6?VkZ_FCfJFBQS*-PY2jP\\'2iad@;KI]=(Pf]Ch7lEBQS*-PY3*W\\'LukTATi*&?WUfIF)5E5/nf?DCm7R&N%[_?B6Rd)FE:ef@q]e!CgV*m?WUr`@q]@m@:jUg@;]U_=(uthEb\\'39/nf?DCm7R)N\"8m+D-p1TA7TLf/nf?DCm7R(N#,6#G%kc/ARA,LDJ*EsFEDG</nf?DCm7QrN\"JHu@:O4_9jqjMDg<sKFDYiY9*pOi;KZG[F`Un\\\\@:sUpA1hP;D/>G0$]G]sAThX*F`UngDIIKq/nf?DCm7R\"N\"nWp@Wca!7!3?UCh7-qEb-k:FDYiY9+-[k9Qb5]?VGB]AS5q\"A1hP;D/>G0$$D1[88i-b@<-I2?W1HJDf9H!De<?XBlmiu@rc!iFC/HoA7&DPH=:i)Ed99NFDYiYI?Z.=&P->NEd;\"gDfg)4E\\\\;$ID/>G0#`KKaCgqO.?UT$R@VfUdDfTDABQS*-PY2:@%odIa?W(TKA8Gg0BQS*-PY21=&lNj]AT`\\'$87?.OBk/i0FDYiY9*\\'ta;e:,`EclG1;f6#_AM.Y<D/>G0#`KEpDf0!\"A7&DL@<66rGqNcPD/>G0\",mscATDX%Df0,n7ri$UB4Z*9BQS*-PY2(:\\'LukTATi*&?WUfIF)5E5/nf?DCm7QoN\"JHu@:O4_9jqjMDg<sKFDYiY9*\\'tf:1\\\\T_Ci!Zi9Q+f]@W-@1Df%+?FDYiY9*\\'0o&kmFc@:)]HG%G<)De(J6FDYiYI?Z.=01^\"oG@>N6F\\'hjUBQ%g*?Z0O`=(ubdBOc\\'kAoqBgDId*UBmO3.A9)rJBQS*-PY24>&P->NEd;\"gDfg)4E\\\\;$ID/>G0$B,KpDf&iZBk1ajAM.Y<D/>G0#)j6dBl7L*Ea`<VARTXrAU,nAFDYiY9*^Cl:1\\\\T_Ci!Zi9Q+f]@W-@1Df%+?FDYiY9*gIi;K$G]Ch-mSARTXrAU,nAFDYiY9*^Cj87cgYBl@m#?Uo-FDJ*O$/nf?DCm7QtN\"T\\'#G%G]:F\\'hj`@;od1BQS*-PY2(:\\'gZYFF`UnXF_tT(ARo_\"AM.Y<D/>G0!K7XhF^ep)F\\'hIHB6%]s/nf?DCm7QoFc7,3AThd(Ch6sIDf02sDfg)>D(]LDD/>GbPUMJD88i-b@<-I2?W1HJDf9H!De<?XBlmiu@rc!iFC/HoA7&DPH=:i)Ed99NFDYiY9*pOh87?OZH!aBdFED)7/nf?DCm7R\"N\"nlpEc#N/DIm0FEa`iuATBD:FDYiY9*pOj;K$G]Ch-mSARTXrAU,nAFDYiY9*gIj7qljPG&h\"u=(Pf]Ch7lEBQS*-PY2:@%odIa?W(TKA8Gg0BQS*-PY27?&lNj]AT`\\'$87?.OBk/i0FDYiY9*:+b6ul^GDdQ4ICh@U2/nf?DCm7QrN\"T\\'#G%G]:F\\'hj`@;od1BQS*-PY2:@&kmFc@:)]HG%G<)De(J6FDYiY9*U=i6#:\"QF\\'h=XD.7<mA8cL\"/nf?DCm7QpFc6u3Df0!\"A7&DL@<66rGqNcPD/>GbPUMJ&6ul^GDdQ4ICh@U2/nf?DCm7R%N\"JThEcQG4:iCGtATBD:FDYiY9,*=!7qljPG&h\"u=(Pf]Ch7lEBQS*-PY2UI\\'hDnVD/!p+AR@rJ@;]^hE\\\\;$ID/>G0\\'T=\\\\9DeF9&EccA0;e\\'KZDerd!Am\\\\VRFCSuoEa`R%?X[h_?WUrf@<,n!GqNcPD/>G0%#b]rDf&iZBk1ajAM.Y<D/>G0%#boeCgqO.?UT$R@VfUdDfTDABQS*-PY2RH&lNj]AT`\\'$87?.OBk/i0FDYiY9*pOn:1\\\\T_Ci!Zi9Q+f]@W-@1Df%+?FDYiY9*gIh9Qb5]?VGB]AS5q\"A1hP;D/>G0#E09oAThX*F`UngDIIKq/nf?DCm7QtFc6r2F^ep)F\\'hIHB6%]s/nf?DCm9@4.#]fMDeF9&EccA0;e\\'KZDerd!Am\\\\VRFCSuoEa`R%?X[h_?WUrf@<,n!GqNcPD/>G0&W@6\"Df&iZBk1ajAM.Y<D/>G0\\'9!YlCgqO.?UT$R@VfUdDfTDABQS*-PY2^L&P->NEd;\"gDfg)4E\\\\;$ID/>G0\\'T<]\\'Df0!\"A7&DL@<66rGqNcPD/>G0#`KKhATDX%Df0,n7ri$UB4Z*9BQS*-PY2:@&O^YJ@rG^K@;KOoGqNcPD/>G0\",mjkAThX*F`UngDIIKq/nf?DCm7QrN\"ecrDIn!3@:*)I@<66rGqNcPD/>G0!fRacF`(Vp9Q,)cB5_^!/nf?DCm7QnN#,6#G%kc/ARA,LDJ*EsFEDG</nf?DCm7QnFc6r3AThX*F`UngDIIKq/nf?DCm9@4.#]fMDeF9&EccA0;e\\'KZDerd!Am\\\\VRFCSuoEa`R%?X[h_?WUrf@<,n!GqNcPD/>G0%ZCotDf&iZBk1ajAM.Y<D/>G0\\'oW_q@<-C6?VkZ_FCfJFBQS*-PY2dN\\'gZYFF`UnXF_tT(ARo_\"AM.Y<D/>G0&r[DjEa`Hr?VOsFAoDrIBQS*-PY2@B\\'hDnVD/!p+AR@rJ@;]^hE\\\\;$ID/>G0\"cO6mAThd(Ch6sIDf02sDfg)>D(]LDD/>G0\"H4!lDf0!\"A7&DL@<66rGqNcPD/>G0\"cO\\'fF`(Vp9Q,)cB5_^!/nf?DCm7QoN\"ecrDIn!3@:*)I@<66rGqNcPD/>G0!K7XhF^ep)F\\'hIHB6%]s/nf?DCm7QpFc6i1Df&iZBk1ajAM.Y<D/>GbPUMJ*6#:\"QF\\'h=XD.7<mA8cL\"/nf?DCm7R-N%[_?B6Rd)FE:ef@q]e!CgV*m?WUr`@q]@m@:jUg@;]U_=(uthEb\\'39/nf?DCm7R(N\"JThEcQG4:iCGtATBD:FDYiY9-&s(;KZG[F`Un\\\\@:sUpA1hP;D/>G0#)j0nAThX*F`UngDIIKq/nf?DCm7R\\'N#,6#G%kc/ARA,LDJ*EsFEDG</nf?DCm7QrN\"nlpEc#N/DIm0FEa`iuATBD:FDYiY9*^Cf6ul^GDdQ4ICh@U2/nf?DCm7R!N\"ecrDIn!3@:*)I@<66rGqNcPD/>G0\"H4!lDf0!\"A7&DL@<66rGqNcPD/>G0\"cO\\'fF`(Vp9Q,)cB5_^!/nf?DCm7QnF`f;'\n"
     ]
    }
   ],
   "source": [
    "import base64\n",
    "\n",
    "with open('td.p', 'rb') as f:\n",
    "    print(repr(base64.a85encode(f.read())))"
   ]
  },
  {
   "cell_type": "code",
   "execution_count": null,
   "metadata": {},
   "outputs": [],
   "source": []
  }
 ],
 "metadata": {
  "interpreter": {
   "hash": "ac59ebe37160ed0dfa835113d9b8498d9f09ceb179beaac4002f036b9467c963"
  },
  "kernelspec": {
   "display_name": "Python 3.9.6 64-bit",
   "language": "python",
   "name": "python3"
  },
  "language_info": {
   "codemirror_mode": {
    "name": "ipython",
    "version": 3
   },
   "file_extension": ".py",
   "mimetype": "text/x-python",
   "name": "python",
   "nbconvert_exporter": "python",
   "pygments_lexer": "ipython3",
   "version": "3.9.6"
  },
  "orig_nbformat": 4
 },
 "nbformat": 4,
 "nbformat_minor": 2
}
